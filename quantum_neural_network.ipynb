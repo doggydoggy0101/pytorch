{
 "cells": [
  {
   "cell_type": "code",
   "execution_count": 1,
   "metadata": {},
   "outputs": [
    {
     "name": "stdout",
     "output_type": "stream",
     "text": [
      "GeForce GTX 1650 with Max-Q Design\n",
      "Memory Usage:\n",
      "Allocated: 0.0 GB\n",
      "Cached:    0.0 GB\n"
     ]
    }
   ],
   "source": [
    "import warnings\n",
    "warnings.simplefilter(action='ignore',)\n",
    "\n",
    "import os # Kernel dies when importing qiskit after importing torch\n",
    "os.environ[\"KMP_DUPLICATE_LIB_OK\"]=\"TRUE\"\n",
    "\n",
    "import numpy as np\n",
    "import matplotlib.pyplot as plt\n",
    "import seaborn as sns\n",
    "sns.set_style(\"darkgrid\")\n",
    "\n",
    "import torch\n",
    "import torch.nn as nn\n",
    "import torch.optim as optim\n",
    "import torch.nn.functional as F\n",
    "from torch.autograd import Function\n",
    "from torchvision import datasets, transforms\n",
    "from torch.utils.data import DataLoader, random_split\n",
    "from tqdm.auto import tqdm\n",
    "\n",
    "import qiskit\n",
    "from qiskit import Aer, QuantumCircuit, transpile, assemble\n",
    "backend = Aer.get_backend(\"statevector_simulator\")\n",
    "\n",
    "device = torch.device('cuda' if torch.cuda.is_available() else 'cpu')\n",
    "if device.type == 'cuda':\n",
    "    print(torch.cuda.get_device_name(0))\n",
    "    print('Memory Usage:')\n",
    "    print('Allocated:', round(torch.cuda.memory_allocated(0)/1024**3,1), 'GB')\n",
    "    print('Cached:   ', round(torch.cuda.memory_reserved(0)/1024**3,1), 'GB')"
   ]
  },
  {
   "cell_type": "code",
   "execution_count": 2,
   "metadata": {},
   "outputs": [],
   "source": [
    "# device = torch.device('cpu')\n",
    "\n",
    "NUM_EPOCHS = 40\n",
    "EARLY_STOP = 4\n",
    "NUM_CLASS = 10\n",
    "\n",
    "NUM_TRAIN = 640\n",
    "NUM_TEST = 128\n",
    "\n",
    "BATCH_SIZE = 10\n",
    "LEARN_RATE = 0.001"
   ]
  },
  {
   "cell_type": "code",
   "execution_count": 3,
   "metadata": {},
   "outputs": [],
   "source": [
    "train_dataset = datasets.MNIST(root='data/',\n",
    "                               train=True, \n",
    "                               transform=transforms.ToTensor(),\n",
    "                               download=True)\n",
    "\n",
    "test_dataset = datasets.MNIST(root='data/',\n",
    "                              train=False, \n",
    "                              transform=transforms.ToTensor())\n",
    "\n",
    "train_dataset.data = train_dataset.data[:NUM_TRAIN]\n",
    "train_dataset.targets = train_dataset.targets[:NUM_TRAIN]\n",
    "train, valid = random_split(train_dataset,[int(NUM_TRAIN*0.8),int(NUM_TRAIN*0.2)])\n",
    "\n",
    "test_dataset.data = test_dataset.data[:NUM_TEST]\n",
    "test_dataset.targets = test_dataset.targets[:NUM_TEST]\n",
    "\n",
    "train_loader = torch.utils.data.DataLoader(dataset=train,\n",
    "                                           batch_size=BATCH_SIZE, \n",
    "                                           shuffle=True)\n",
    "\n",
    "valid_loader = torch.utils.data.DataLoader(dataset=valid,\n",
    "                                           batch_size=BATCH_SIZE, \n",
    "                                           shuffle=True)\n",
    "\n",
    "test_loader = torch.utils.data.DataLoader(dataset=test_dataset,\n",
    "                                          batch_size=BATCH_SIZE, \n",
    "                                          shuffle=False)"
   ]
  },
  {
   "cell_type": "code",
   "execution_count": 4,
   "metadata": {},
   "outputs": [],
   "source": [
    "class QNN_circuit:\n",
    "    \n",
    "    def __init__(self, n_qubits, backend, shots):\n",
    "        self._circuit = QuantumCircuit(n_qubits)\n",
    "        self.theta = qiskit.circuit.Parameter('θ')\n",
    "        \n",
    "        self._circuit.h(range(n_qubits))\n",
    "        self._circuit.barrier()\n",
    "        self._circuit.ry(self.theta, range(n_qubits))     \n",
    "        self._circuit.measure_all()\n",
    "        \n",
    "        self.backend = backend\n",
    "        self.shots = shots\n",
    "    \n",
    "    def run(self, thetas):\n",
    "        t_qc = transpile(self._circuit, self.backend)\n",
    "        qobj = assemble(t_qc, shots=self.shots, parameter_binds=[{self.theta: i} for i in thetas])\n",
    "        \n",
    "        job = self.backend.run(qobj)\n",
    "        result = job.result().get_counts()\n",
    "        \n",
    "        counts = np.array(list(result.values()))\n",
    "        states = np.array(list(result.keys())).astype(float)\n",
    "        \n",
    "        probabilities = counts / self.shots\n",
    "        expectation = np.sum(states * probabilities) \n",
    "        \n",
    "        return np.array([expectation])"
   ]
  },
  {
   "cell_type": "code",
   "execution_count": 5,
   "metadata": {},
   "outputs": [
    {
     "name": "stdout",
     "output_type": "stream",
     "text": [
      "Expected value for rotation pi 541.7265625\n"
     ]
    },
    {
     "data": {
      "image/png": "[encoded data removed]",
      "text/plain": [
       "<Figure size 598.479x325.08 with 1 Axes>"
      ]
     },
     "execution_count": 5,
     "metadata": {},
     "output_type": "execute_result"
    }
   ],
   "source": [
    "qc_display = QNN_circuit(4, backend, 128)\n",
    "print('Expected value for rotation pi {}'.format(qc_display.run([np.pi])[0]))\n",
    "qc_display._circuit.draw(output=\"mpl\")"
   ]
  },
  {
   "cell_type": "code",
   "execution_count": 6,
   "metadata": {},
   "outputs": [],
   "source": [
    "class HybridFunction(Function):\n",
    "\n",
    "    def forward(ctx, inputs, quantum_circuit, shift):\n",
    "        ctx.shift = shift\n",
    "        ctx.quantum_circuit = quantum_circuit\n",
    "\n",
    "        expectation_z = []\n",
    "        for input in inputs: expectation_z.append(ctx.quantum_circuit.run(input.tolist()))\n",
    "        result = torch.tensor(expectation_z).to(device)\n",
    "        \n",
    "        ctx.save_for_backward(inputs, result)\n",
    "        return result\n",
    "\n",
    "    def backward(ctx, grad_output):\n",
    "        input, expectation_z = ctx.saved_tensors\n",
    "        input_list = np.array(input.tolist())\n",
    "        \n",
    "        shift_right = input_list + np.ones(input_list.shape) * ctx.shift\n",
    "        shift_left = input_list - np.ones(input_list.shape) * ctx.shift\n",
    "        \n",
    "        gradients = []\n",
    "        for i in range(len(input_list)):\n",
    "            expectation_right = ctx.quantum_circuit.run(shift_right[i])\n",
    "            expectation_left  = ctx.quantum_circuit.run(shift_left[i])\n",
    "            \n",
    "            gradient = torch.tensor([expectation_right]).to(device) - torch.tensor([expectation_left]).to(device)\n",
    "            gradients.append(gradient)\n",
    "        \n",
    "        # gradients = np.array([gradients]).T\n",
    "        gradients = torch.tensor([gradients]).to(device)\n",
    "        gradients = torch.transpose(gradients, 0, 1)\n",
    "\n",
    "        # return torch.tensor([gradients]).float() * grad_output.float(), None, None\n",
    "        return gradients.float() * grad_output.float(), None, None\n",
    "\n",
    "class Hybrid(nn.Module):\n",
    "    \n",
    "    def __init__(self, backend, shots, shift):\n",
    "        super(Hybrid, self).__init__()\n",
    "        self.quantum_circuit = QNN_circuit(4, backend, shots)\n",
    "        self.shift = shift\n",
    "        \n",
    "    def forward(self, input):\n",
    "        return HybridFunction.apply(input, self.quantum_circuit, self.shift)"
   ]
  },
  {
   "cell_type": "code",
   "execution_count": 7,
   "metadata": {},
   "outputs": [],
   "source": [
    "class QNN(torch.nn.Module):\n",
    "    def __init__(self, num_classes=NUM_CLASS):\n",
    "        super(QNN, self).__init__()\n",
    "        \n",
    "        self.layer1 = torch.nn.Sequential(\n",
    "            torch.nn.Conv2d(1, 16, kernel_size=5, stride=1, padding=2),\n",
    "            torch.nn.BatchNorm2d(16),\n",
    "            torch.nn.ReLU(),\n",
    "            torch.nn.MaxPool2d(kernel_size=2, stride=2))\n",
    "        \n",
    "        self.layer2 = torch.nn.Sequential(\n",
    "            torch.nn.Conv2d(16, 32, kernel_size=5, stride=1, padding=2),\n",
    "            torch.nn.BatchNorm2d(32),\n",
    "            torch.nn.ReLU(),\n",
    "            torch.nn.MaxPool2d(kernel_size=2, stride=2))\n",
    "        \n",
    "        self.fc1 = torch.nn.Linear(7*7*32, 256)\n",
    "        self.fc2 = torch.nn.Linear(256, 64)\n",
    "        self.fc3 = torch.nn.Linear(64, num_classes)\n",
    "        \n",
    "        self.hybrid = [Hybrid(backend, 128, np.pi/2) for i in range(10)]\n",
    "        \n",
    "    def forward(self, x):\n",
    "        out = self.layer1(x)\n",
    "        out = self.layer2(out)\n",
    "        out = out.reshape(out.size(0), -1)\n",
    "        \n",
    "        out = F.relu(self.fc1(out))\n",
    "        out = F.relu(self.fc2(out))\n",
    "        out = self.fc3(out)\n",
    "        \n",
    "#         outut = self.hybrid(x)\n",
    "        out = torch.chunk(out, 10, dim=1)\n",
    "        out = tuple([hy(x) for hy, x in zip(self.hybrid, out)])\n",
    "        return torch.cat(out, -1)"
   ]
  },
  {
   "cell_type": "code",
   "execution_count": 8,
   "metadata": {},
   "outputs": [
    {
     "name": "stdout",
     "output_type": "stream",
     "text": [
      "QNN(\n",
      "  (layer1): Sequential(\n",
      "    (0): Conv2d(1, 16, kernel_size=(5, 5), stride=(1, 1), padding=(2, 2))\n",
      "    (1): BatchNorm2d(16, eps=1e-05, momentum=0.1, affine=True, track_running_stats=True)\n",
      "    (2): ReLU()\n",
      "    (3): MaxPool2d(kernel_size=2, stride=2, padding=0, dilation=1, ceil_mode=False)\n",
      "  )\n",
      "  (layer2): Sequential(\n",
      "    (0): Conv2d(16, 32, kernel_size=(5, 5), stride=(1, 1), padding=(2, 2))\n",
      "    (1): BatchNorm2d(32, eps=1e-05, momentum=0.1, affine=True, track_running_stats=True)\n",
      "    (2): ReLU()\n",
      "    (3): MaxPool2d(kernel_size=2, stride=2, padding=0, dilation=1, ceil_mode=False)\n",
      "  )\n",
      "  (fc1): Linear(in_features=1568, out_features=256, bias=True)\n",
      "  (fc2): Linear(in_features=256, out_features=64, bias=True)\n",
      "  (fc3): Linear(in_features=64, out_features=10, bias=True)\n",
      ")\n"
     ]
    }
   ],
   "source": [
    "model = QNN().to(device)\n",
    "cost_func = torch.nn.CrossEntropyLoss()\n",
    "optimizer = optim.Adam(model.parameters(), lr=LEARN_RATE)\n",
    "print(model)"
   ]
  },
  {
   "cell_type": "code",
   "execution_count": 9,
   "metadata": {
    "scrolled": false
   },
   "outputs": [
    {
     "data": {
      "application/vnd.jupyter.widget-view+json": {
       "model_id": "aa427bf5a0744e18b7e9be0c184baa17",
       "version_major": 2,
       "version_minor": 0
      },
      "text/plain": [
       "Epoch[ 1/40]:   0%|          | 0/52 [00:00<?, ?it/s]"
      ]
     },
     "metadata": {},
     "output_type": "display_data"
    },
    {
     "name": "stdout",
     "output_type": "stream",
     "text": [
      "train_acc: 24.41 | train_loss: 85.424 | valid_acc: 34.38 | valid_loss: 48.049\n",
      "\n",
      "Validation loss decreased(   inf--->48.049)...saving model\n"
     ]
    },
    {
     "data": {
      "application/vnd.jupyter.widget-view+json": {
       "model_id": "95d2bd1ced3a416b983c4463aab46044",
       "version_major": 2,
       "version_minor": 0
      },
      "text/plain": [
       "Epoch[ 2/40]:   0%|          | 0/52 [00:00<?, ?it/s]"
      ]
     },
     "metadata": {},
     "output_type": "display_data"
    },
    {
     "name": "stdout",
     "output_type": "stream",
     "text": [
      "train_acc: 51.95 | train_loss: 31.357 | valid_acc: 57.81 | valid_loss: 30.256\n",
      "\n",
      "Validation loss decreased(48.049--->30.256)...saving model\n"
     ]
    },
    {
     "data": {
      "application/vnd.jupyter.widget-view+json": {
       "model_id": "405a754290f14ab3bfa92fd277388ada",
       "version_major": 2,
       "version_minor": 0
      },
      "text/plain": [
       "Epoch[ 3/40]:   0%|          | 0/52 [00:00<?, ?it/s]"
      ]
     },
     "metadata": {},
     "output_type": "display_data"
    },
    {
     "name": "stdout",
     "output_type": "stream",
     "text": [
      "train_acc: 64.84 | train_loss: 19.664 | valid_acc: 64.84 | valid_loss: 24.450\n",
      "\n",
      "Validation loss decreased(30.256--->24.450)...saving model\n"
     ]
    },
    {
     "data": {
      "application/vnd.jupyter.widget-view+json": {
       "model_id": "af6f98ac28274620bbde8372d25f3a17",
       "version_major": 2,
       "version_minor": 0
      },
      "text/plain": [
       "Epoch[ 4/40]:   0%|          | 0/52 [00:00<?, ?it/s]"
      ]
     },
     "metadata": {},
     "output_type": "display_data"
    },
    {
     "name": "stdout",
     "output_type": "stream",
     "text": [
      "train_acc: 70.70 | train_loss: 18.963 | valid_acc: 64.84 | valid_loss: 23.311\n",
      "\n",
      "Validation loss decreased(24.450--->23.311)...saving model\n"
     ]
    },
    {
     "data": {
      "application/vnd.jupyter.widget-view+json": {
       "model_id": "2eaf9bcc9937405fb0654ec85624c0d6",
       "version_major": 2,
       "version_minor": 0
      },
      "text/plain": [
       "Epoch[ 5/40]:   0%|          | 0/52 [00:00<?, ?it/s]"
      ]
     },
     "metadata": {},
     "output_type": "display_data"
    },
    {
     "name": "stdout",
     "output_type": "stream",
     "text": [
      "train_acc: 79.30 | train_loss: 12.225 | valid_acc: 78.91 | valid_loss: 16.851\n",
      "\n",
      "Validation loss decreased(23.311--->16.851)...saving model\n"
     ]
    },
    {
     "data": {
      "application/vnd.jupyter.widget-view+json": {
       "model_id": "13b714fdf836426eb5158cf22fccac46",
       "version_major": 2,
       "version_minor": 0
      },
      "text/plain": [
       "Epoch[ 6/40]:   0%|          | 0/52 [00:00<?, ?it/s]"
      ]
     },
     "metadata": {},
     "output_type": "display_data"
    },
    {
     "name": "stdout",
     "output_type": "stream",
     "text": [
      "train_acc: 84.77 | train_loss:  9.723 | valid_acc: 81.25 | valid_loss: 15.296\n",
      "\n",
      "Validation loss decreased(16.851--->15.296)...saving model\n"
     ]
    },
    {
     "data": {
      "application/vnd.jupyter.widget-view+json": {
       "model_id": "0628f371367e49f7bead5a329f445636",
       "version_major": 2,
       "version_minor": 0
      },
      "text/plain": [
       "Epoch[ 7/40]:   0%|          | 0/52 [00:00<?, ?it/s]"
      ]
     },
     "metadata": {},
     "output_type": "display_data"
    },
    {
     "name": "stdout",
     "output_type": "stream",
     "text": [
      "train_acc: 88.09 | train_loss:  6.916 | valid_acc: 77.34 | valid_loss: 22.283\n"
     ]
    },
    {
     "data": {
      "application/vnd.jupyter.widget-view+json": {
       "model_id": "a327a9d0e45b4ec1b4a26ba9f7868ee5",
       "version_major": 2,
       "version_minor": 0
      },
      "text/plain": [
       "Epoch[ 8/40]:   0%|          | 0/52 [00:00<?, ?it/s]"
      ]
     },
     "metadata": {},
     "output_type": "display_data"
    },
    {
     "name": "stdout",
     "output_type": "stream",
     "text": [
      "train_acc: 89.45 | train_loss:  6.507 | valid_acc: 82.03 | valid_loss: 11.823\n",
      "\n",
      "Validation loss decreased(15.296--->11.823)...saving model\n"
     ]
    },
    {
     "data": {
      "application/vnd.jupyter.widget-view+json": {
       "model_id": "6c96baa8643b427abb33aac47102c147",
       "version_major": 2,
       "version_minor": 0
      },
      "text/plain": [
       "Epoch[ 9/40]:   0%|          | 0/52 [00:00<?, ?it/s]"
      ]
     },
     "metadata": {},
     "output_type": "display_data"
    },
    {
     "name": "stdout",
     "output_type": "stream",
     "text": [
      "train_acc: 88.67 | train_loss:  7.764 | valid_acc: 84.38 | valid_loss: 16.227\n"
     ]
    },
    {
     "data": {
      "application/vnd.jupyter.widget-view+json": {
       "model_id": "66036435cdd74c80a1f9dfdbe4f97b51",
       "version_major": 2,
       "version_minor": 0
      },
      "text/plain": [
       "Epoch[10/40]:   0%|          | 0/52 [00:00<?, ?it/s]"
      ]
     },
     "metadata": {},
     "output_type": "display_data"
    },
    {
     "name": "stdout",
     "output_type": "stream",
     "text": [
      "train_acc: 94.34 | train_loss:  3.178 | valid_acc: 86.72 | valid_loss: 14.874\n"
     ]
    },
    {
     "data": {
      "application/vnd.jupyter.widget-view+json": {
       "model_id": "219c1cca9e5f4ba2aaaa71ad763e9243",
       "version_major": 2,
       "version_minor": 0
      },
      "text/plain": [
       "Epoch[11/40]:   0%|          | 0/52 [00:00<?, ?it/s]"
      ]
     },
     "metadata": {},
     "output_type": "display_data"
    },
    {
     "name": "stdout",
     "output_type": "stream",
     "text": [
      "train_acc: 92.38 | train_loss:  2.765 | valid_acc: 85.94 | valid_loss: 11.255\n",
      "\n",
      "Validation loss decreased(11.823--->11.255)...saving model\n"
     ]
    },
    {
     "data": {
      "application/vnd.jupyter.widget-view+json": {
       "model_id": "88414c4c6f844166990d66137998272e",
       "version_major": 2,
       "version_minor": 0
      },
      "text/plain": [
       "Epoch[12/40]:   0%|          | 0/52 [00:00<?, ?it/s]"
      ]
     },
     "metadata": {},
     "output_type": "display_data"
    },
    {
     "name": "stdout",
     "output_type": "stream",
     "text": [
      "train_acc: 92.58 | train_loss:  4.361 | valid_acc: 83.59 | valid_loss: 12.474\n"
     ]
    },
    {
     "data": {
      "application/vnd.jupyter.widget-view+json": {
       "model_id": "15c6ebc0228b4a0e83913a7545452ebe",
       "version_major": 2,
       "version_minor": 0
      },
      "text/plain": [
       "Epoch[13/40]:   0%|          | 0/52 [00:00<?, ?it/s]"
      ]
     },
     "metadata": {},
     "output_type": "display_data"
    },
    {
     "name": "stdout",
     "output_type": "stream",
     "text": [
      "train_acc: 93.75 | train_loss:  5.229 | valid_acc: 85.16 | valid_loss: 12.710\n"
     ]
    },
    {
     "data": {
      "application/vnd.jupyter.widget-view+json": {
       "model_id": "1a177f0a18224fbbbe1964246203ce38",
       "version_major": 2,
       "version_minor": 0
      },
      "text/plain": [
       "Epoch[14/40]:   0%|          | 0/52 [00:00<?, ?it/s]"
      ]
     },
     "metadata": {},
     "output_type": "display_data"
    },
    {
     "name": "stdout",
     "output_type": "stream",
     "text": [
      "train_acc: 94.92 | train_loss:  3.013 | valid_acc: 87.50 | valid_loss:  8.942\n",
      "\n",
      "Validation loss decreased(11.255---> 8.942)...saving model\n"
     ]
    },
    {
     "data": {
      "application/vnd.jupyter.widget-view+json": {
       "model_id": "d48addfa1bf24e14a6b7e40a5b8d88fc",
       "version_major": 2,
       "version_minor": 0
      },
      "text/plain": [
       "Epoch[15/40]:   0%|          | 0/52 [00:00<?, ?it/s]"
      ]
     },
     "metadata": {},
     "output_type": "display_data"
    },
    {
     "name": "stdout",
     "output_type": "stream",
     "text": [
      "train_acc: 95.51 | train_loss:  2.218 | valid_acc: 87.50 | valid_loss: 11.495\n"
     ]
    },
    {
     "data": {
      "application/vnd.jupyter.widget-view+json": {
       "model_id": "bae28b4755fd43878a7df64dc860922d",
       "version_major": 2,
       "version_minor": 0
      },
      "text/plain": [
       "Epoch[16/40]:   0%|          | 0/52 [00:00<?, ?it/s]"
      ]
     },
     "metadata": {},
     "output_type": "display_data"
    },
    {
     "name": "stdout",
     "output_type": "stream",
     "text": [
      "train_acc: 95.70 | train_loss:  2.891 | valid_acc: 89.06 | valid_loss: 15.386\n"
     ]
    },
    {
     "data": {
      "application/vnd.jupyter.widget-view+json": {
       "model_id": "66dc8321582f45039380695144303c6a",
       "version_major": 2,
       "version_minor": 0
      },
      "text/plain": [
       "Epoch[17/40]:   0%|          | 0/52 [00:00<?, ?it/s]"
      ]
     },
     "metadata": {},
     "output_type": "display_data"
    },
    {
     "name": "stdout",
     "output_type": "stream",
     "text": [
      "train_acc: 96.09 | train_loss:  1.584 | valid_acc: 86.72 | valid_loss: 12.331\n"
     ]
    },
    {
     "data": {
      "application/vnd.jupyter.widget-view+json": {
       "model_id": "8969140e1ca24265823368487f0aea39",
       "version_major": 2,
       "version_minor": 0
      },
      "text/plain": [
       "Epoch[18/40]:   0%|          | 0/52 [00:00<?, ?it/s]"
      ]
     },
     "metadata": {},
     "output_type": "display_data"
    },
    {
     "name": "stdout",
     "output_type": "stream",
     "text": [
      "train_acc: 94.53 | train_loss:  2.928 | valid_acc: 86.72 | valid_loss: 14.455\n"
     ]
    },
    {
     "data": {
      "application/vnd.jupyter.widget-view+json": {
       "model_id": "14abca670a394d8db2995e7fc354bb60",
       "version_major": 2,
       "version_minor": 0
      },
      "text/plain": [
       "Epoch[19/40]:   0%|          | 0/52 [00:00<?, ?it/s]"
      ]
     },
     "metadata": {},
     "output_type": "display_data"
    },
    {
     "name": "stdout",
     "output_type": "stream",
     "text": [
      "train_acc: 93.95 | train_loss:  3.086 | valid_acc: 85.94 | valid_loss: 18.154\n",
      "\n",
      "No improvment 4 consecutive epochs, early stopping.\n"
     ]
    }
   ],
   "source": [
    "ACC,LOSS,VAL_ACC,VAL_LOSS = [],[],[],[]\n",
    "\n",
    "early_step, total_step = 0, len(train_loader)\n",
    "min_valid_loss = np.inf\n",
    "\n",
    "def calculate_acc(outputs, labels, total, correct):\n",
    "    _, predicted = torch.max(outputs.data, 1)\n",
    "    total += labels.size(0)\n",
    "    correct += (predicted == labels).sum().item()\n",
    "    return total,correct\n",
    "    \n",
    "for epoch in range(NUM_EPOCHS):    \n",
    "    train_acc,train_total,valid_acc,valid_total = 0,0,0,0\n",
    "    train_loss,valid_loss = 0.0,0.0\n",
    "    \n",
    "    for images, labels in tqdm(train_loader, desc=\"Epoch[{:2d}/{}]\".format(epoch+1,NUM_EPOCHS)):\n",
    "        images = images.to(device)\n",
    "        labels = labels.to(device)\n",
    "        \n",
    "        outputs = model(images)\n",
    "        loss = cost_func(outputs, labels)\n",
    "        train_total, train_acc = calculate_acc(outputs, labels, train_total, train_acc)\n",
    "        \n",
    "        optimizer.zero_grad()\n",
    "        loss.backward()\n",
    "        optimizer.step()\n",
    "        train_loss += loss.item()\n",
    "    \n",
    "    for images, labels in valid_loader:\n",
    "        images = images.to(device)\n",
    "        labels = labels.to(device)\n",
    "        \n",
    "        outputs = model(images)\n",
    "        loss = cost_func(outputs, labels)\n",
    "        valid_total, valid_acc = calculate_acc(outputs, labels, valid_total, valid_acc)\n",
    "        valid_loss += loss.item() \n",
    "\n",
    "    ACC.append(train_acc/train_total)\n",
    "    LOSS.append(train_loss/total_step)\n",
    "    VAL_ACC.append(valid_acc/valid_total)\n",
    "    VAL_LOSS.append(valid_loss/len(valid_loader))\n",
    "    \n",
    "    print('train_acc: {:5.2f} | train_loss: {:6.3f} | valid_acc: {:5.2f} | valid_loss: {:6.3f}'.format(\n",
    "          100*(train_acc/train_total),(train_loss/total_step),100*(valid_acc/valid_total),(valid_loss/len(valid_loader))))\n",
    "    \n",
    "    if min_valid_loss > valid_loss/len(valid_loader):\n",
    "        print('\\nValidation loss decreased({:6.3f}--->{:6.3f})...saving model'.format(min_valid_loss,valid_loss/len(valid_loader)))\n",
    "        \n",
    "        early_step, min_valid_loss = 0, valid_loss/len(valid_loader)     \n",
    "        torch.save(model.state_dict(), 'saved_model.pth')\n",
    "    else:\n",
    "        early_step += 1\n",
    "        if early_step > EARLY_STOP:\n",
    "            print(f\"\\nNo improvment {EARLY_STOP} consecutive epochs, early stopping.\")\n",
    "            break"
   ]
  },
  {
   "cell_type": "code",
   "execution_count": 10,
   "metadata": {},
   "outputs": [
    {
     "data": {
      "image/png": "[encoded data removed]",
      "text/plain": [
       "<Figure size 1008x360 with 2 Axes>"
      ]
     },
     "metadata": {},
     "output_type": "display_data"
    }
   ],
   "source": [
    "sns.set_style(\"darkgrid\")\n",
    "fig, ax = plt.subplots(1, 2, figsize=(14,5))\n",
    "ax[0].plot(LOSS, label=\"Train loss\", color=\"#4863A0\")\n",
    "ax[0].plot(VAL_LOSS, label=\"Valid loss\", color=\"#EE9A4D\")\n",
    "ax[0].set_ylabel('loss')\n",
    "ax[0].legend(loc=\"upper right\")\n",
    "\n",
    "ax[1].plot(ACC, label=\"Train acc\", color=\"#3B9C9C\")\n",
    "ax[1].plot(VAL_ACC, label=\"Valid acc\", color=\"#F75D59\")\n",
    "ax[1].set_ylabel('acc')\n",
    "ax[1].legend(loc=\"upper left\")\n",
    "\n",
    "plt.tight_layout()\n",
    "plt.show()"
   ]
  },
  {
   "cell_type": "code",
   "execution_count": 11,
   "metadata": {},
   "outputs": [
    {
     "data": {
      "application/vnd.jupyter.widget-view+json": {
       "model_id": "3457a595310c4292bdc48b82c688da93",
       "version_major": 2,
       "version_minor": 0
      },
      "text/plain": [
       "Test:   0%|          | 0/13 [00:00<?, ?it/s]"
      ]
     },
     "metadata": {},
     "output_type": "display_data"
    },
    {
     "name": "stdout",
     "output_type": "stream",
     "text": [
      "Accuracy of 128 test images: 82.03 %\n"
     ]
    }
   ],
   "source": [
    "model = QNN(NUM_CLASS).to(device)\n",
    "model.load_state_dict(torch.load('saved_model.pth'))\n",
    "model.eval()  \n",
    "    \n",
    "def calculate_acc(outputs, labels, total, correct):\n",
    "    _, predicted = torch.max(outputs.data, 1)\n",
    "    total += labels.size(0)\n",
    "    correct += (predicted == labels).sum().item()\n",
    "    return total,correct\n",
    "\n",
    "with torch.no_grad():\n",
    "    acc,total = 0,0\n",
    "    for images, labels in tqdm(test_loader, desc=\"Test\"):\n",
    "        images = images.to(device)\n",
    "        labels = labels.to(device)\n",
    "        outputs = model(images)\n",
    "        total, acc = calculate_acc(outputs, labels, total, acc)\n",
    "    print('Accuracy of 128 test images: {:5.2f} %'.format(100*acc/total))"
   ]
  }
 ],
 "metadata": {
  "hide_input": false,
  "kernelspec": {
   "display_name": "Python 3 (ipykernel)",
   "language": "python",
   "name": "python3"
  },
  "language_info": {
   "codemirror_mode": {
    "name": "ipython",
    "version": 3
   },
   "file_extension": ".py",
   "mimetype": "text/x-python",
   "name": "python",
   "nbconvert_exporter": "python",
   "pygments_lexer": "ipython3",
   "version": "3.9.12"
  }
 },
 "nbformat": 4,
 "nbformat_minor": 2
}

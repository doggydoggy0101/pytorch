{
 "cells": [
  {
   "cell_type": "code",
   "execution_count": 1,
   "metadata": {},
   "outputs": [
    {
     "name": "stdout",
     "output_type": "stream",
     "text": [
      "GeForce GTX 1080 Ti\n",
      "Memory Usage:\n",
      "Allocated: 0.0 GB\n",
      "Cached:    0.0 GB\n"
     ]
    }
   ],
   "source": [
    "import numpy as np\n",
    "import matplotlib\n",
    "import matplotlib.pyplot as plt\n",
    "import seaborn as sns\n",
    "import progressbar\n",
    "\n",
    "import torch \n",
    "import torchvision\n",
    "import torch.nn.functional as F\n",
    "import torchvision.transforms as transforms\n",
    "from torch.utils.data import DataLoader, random_split\n",
    "from tqdm.auto import tqdm\n",
    "\n",
    "device = torch.device('cuda' if torch.cuda.is_available() else 'cpu')\n",
    "if device.type == 'cuda':\n",
    "    print(torch.cuda.get_device_name(0))\n",
    "    print('Memory Usage:')\n",
    "    print('Allocated:', round(torch.cuda.memory_allocated(0)/1024**3,1), 'GB')\n",
    "    print('Cached:   ', round(torch.cuda.memory_reserved(0)/1024**3,1), 'GB')"
   ]
  },
  {
   "cell_type": "code",
   "execution_count": 2,
   "metadata": {},
   "outputs": [],
   "source": [
    "NUM_EPOCHS = 100\n",
    "EARLY_STOP = 10\n",
    "NUM_CLASS = 10\n",
    "BATCH_SIZE = 100\n",
    "LEARN_RATE = 0.001"
   ]
  },
  {
   "cell_type": "code",
   "execution_count": 3,
   "metadata": {},
   "outputs": [],
   "source": [
    "train_dataset = torchvision.datasets.MNIST(root='../../data/',\n",
    "                                           train=True, \n",
    "                                           transform=transforms.ToTensor(),\n",
    "                                           download=True)\n",
    "\n",
    "test_dataset = torchvision.datasets.MNIST(root='../../data/',\n",
    "                                          train=False, \n",
    "                                          transform=transforms.ToTensor())\n",
    "\n",
    "train, valid = random_split(train_dataset,[50000,10000])\n",
    "\n",
    "train_loader = torch.utils.data.DataLoader(dataset=train,\n",
    "                                           batch_size=BATCH_SIZE, \n",
    "                                           shuffle=True)\n",
    "\n",
    "valid_loader = torch.utils.data.DataLoader(dataset=valid,\n",
    "                                           batch_size=BATCH_SIZE, \n",
    "                                           shuffle=True)\n",
    "\n",
    "test_loader = torch.utils.data.DataLoader(dataset=test_dataset,\n",
    "                                          batch_size=BATCH_SIZE, \n",
    "                                          shuffle=False)"
   ]
  },
  {
   "cell_type": "code",
   "execution_count": 4,
   "metadata": {},
   "outputs": [],
   "source": [
    "class CNN_model(torch.nn.Module):\n",
    "    def __init__(self, num_classes=10):\n",
    "        super(CNN_model, self).__init__()\n",
    "        \n",
    "        self.layer1 = torch.nn.Sequential(\n",
    "            torch.nn.Conv2d(1, 16, kernel_size=5, stride=1, padding=2),\n",
    "            torch.nn.BatchNorm2d(16),\n",
    "            torch.nn.ReLU(),\n",
    "            torch.nn.MaxPool2d(kernel_size=2, stride=2))\n",
    "        \n",
    "        self.layer2 = torch.nn.Sequential(\n",
    "            torch.nn.Conv2d(16, 32, kernel_size=5, stride=1, padding=2),\n",
    "            torch.nn.BatchNorm2d(32),\n",
    "            torch.nn.ReLU(),\n",
    "            torch.nn.MaxPool2d(kernel_size=2, stride=2))\n",
    "        \n",
    "        self.fc1 = torch.nn.Linear(7*7*32, 256)\n",
    "        self.fc2 = torch.nn.Linear(256, 64)\n",
    "        self.fc3 = torch.nn.Linear(64, num_classes)\n",
    "        \n",
    "    def forward(self, x):\n",
    "        out = self.layer1(x)\n",
    "        out = self.layer2(out)\n",
    "        out = out.reshape(out.size(0), -1)\n",
    "        \n",
    "        out = F.relu(self.fc1(out))\n",
    "        out = F.relu(self.fc2(out))\n",
    "        out = self.fc3(out)\n",
    "        return out"
   ]
  },
  {
   "cell_type": "code",
   "execution_count": 5,
   "metadata": {
    "scrolled": true
   },
   "outputs": [
    {
     "name": "stdout",
     "output_type": "stream",
     "text": [
      "CNN_model(\n",
      "  (layer1): Sequential(\n",
      "    (0): Conv2d(1, 16, kernel_size=(5, 5), stride=(1, 1), padding=(2, 2))\n",
      "    (1): BatchNorm2d(16, eps=1e-05, momentum=0.1, affine=True, track_running_stats=True)\n",
      "    (2): ReLU()\n",
      "    (3): MaxPool2d(kernel_size=2, stride=2, padding=0, dilation=1, ceil_mode=False)\n",
      "  )\n",
      "  (layer2): Sequential(\n",
      "    (0): Conv2d(16, 32, kernel_size=(5, 5), stride=(1, 1), padding=(2, 2))\n",
      "    (1): BatchNorm2d(32, eps=1e-05, momentum=0.1, affine=True, track_running_stats=True)\n",
      "    (2): ReLU()\n",
      "    (3): MaxPool2d(kernel_size=2, stride=2, padding=0, dilation=1, ceil_mode=False)\n",
      "  )\n",
      "  (fc1): Linear(in_features=1568, out_features=256, bias=True)\n",
      "  (fc2): Linear(in_features=256, out_features=64, bias=True)\n",
      "  (fc3): Linear(in_features=64, out_features=10, bias=True)\n",
      ")\n"
     ]
    }
   ],
   "source": [
    "model = CNN_model(NUM_CLASS).to(device)\n",
    "\n",
    "cost_func = torch.nn.CrossEntropyLoss()\n",
    "optimizer = torch.optim.Adam(model.parameters(), lr=LEARN_RATE)\n",
    "print(model)"
   ]
  },
  {
   "cell_type": "code",
   "execution_count": 6,
   "metadata": {
    "scrolled": false
   },
   "outputs": [
    {
     "data": {
      "application/vnd.jupyter.widget-view+json": {
       "model_id": "00bc6ff50e0d41528bdcc867c00b0ac0",
       "version_major": 2,
       "version_minor": 0
      },
      "text/plain": [
       "HBox(children=(IntProgress(value=0, description='Epoch[ 1/100]', max=500, style=ProgressStyle(description_widt…"
      ]
     },
     "metadata": {},
     "output_type": "display_data"
    },
    {
     "name": "stdout",
     "output_type": "stream",
     "text": [
      "\n",
      "train_acc: 95.28 | train_loss:  0.156 | valid_acc: 98.01 | valid_loss:  0.062\n",
      "\n",
      "Validation loss decreased( inf--->6.191780)...saving model\n"
     ]
    },
    {
     "data": {
      "application/vnd.jupyter.widget-view+json": {
       "model_id": "03decfeb6c4c499cb33bc2b2da53ffb1",
       "version_major": 2,
       "version_minor": 0
      },
      "text/plain": [
       "HBox(children=(IntProgress(value=0, description='Epoch[ 2/100]', max=500, style=ProgressStyle(description_widt…"
      ]
     },
     "metadata": {},
     "output_type": "display_data"
    },
    {
     "name": "stdout",
     "output_type": "stream",
     "text": [
      "\n",
      "train_acc: 98.30 | train_loss:  0.053 | valid_acc: 98.51 | valid_loss:  0.044\n",
      "\n",
      "Validation loss decreased(6.191780--->4.430901)...saving model\n"
     ]
    },
    {
     "data": {
      "application/vnd.jupyter.widget-view+json": {
       "model_id": "d961044677ec49279eee1c2e5f354eeb",
       "version_major": 2,
       "version_minor": 0
      },
      "text/plain": [
       "HBox(children=(IntProgress(value=0, description='Epoch[ 3/100]', max=500, style=ProgressStyle(description_widt…"
      ]
     },
     "metadata": {},
     "output_type": "display_data"
    },
    {
     "name": "stdout",
     "output_type": "stream",
     "text": [
      "\n",
      "train_acc: 98.82 | train_loss:  0.037 | valid_acc: 98.50 | valid_loss:  0.049\n"
     ]
    },
    {
     "data": {
      "application/vnd.jupyter.widget-view+json": {
       "model_id": "0c3851242e8e4580858bdb0817c93341",
       "version_major": 2,
       "version_minor": 0
      },
      "text/plain": [
       "HBox(children=(IntProgress(value=0, description='Epoch[ 4/100]', max=500, style=ProgressStyle(description_widt…"
      ]
     },
     "metadata": {},
     "output_type": "display_data"
    },
    {
     "name": "stdout",
     "output_type": "stream",
     "text": [
      "\n",
      "train_acc: 99.00 | train_loss:  0.031 | valid_acc: 98.75 | valid_loss:  0.039\n",
      "\n",
      "Validation loss decreased(4.430901--->3.862671)...saving model\n"
     ]
    },
    {
     "data": {
      "application/vnd.jupyter.widget-view+json": {
       "model_id": "46929666e6e3488a826f04e8da7be639",
       "version_major": 2,
       "version_minor": 0
      },
      "text/plain": [
       "HBox(children=(IntProgress(value=0, description='Epoch[ 5/100]', max=500, style=ProgressStyle(description_widt…"
      ]
     },
     "metadata": {},
     "output_type": "display_data"
    },
    {
     "name": "stdout",
     "output_type": "stream",
     "text": [
      "\n",
      "train_acc: 99.26 | train_loss:  0.024 | valid_acc: 99.16 | valid_loss:  0.029\n",
      "\n",
      "Validation loss decreased(3.862671--->2.870633)...saving model\n"
     ]
    },
    {
     "data": {
      "application/vnd.jupyter.widget-view+json": {
       "model_id": "ffee21a84e1541c894a3210e3ab34928",
       "version_major": 2,
       "version_minor": 0
      },
      "text/plain": [
       "HBox(children=(IntProgress(value=0, description='Epoch[ 6/100]', max=500, style=ProgressStyle(description_widt…"
      ]
     },
     "metadata": {},
     "output_type": "display_data"
    },
    {
     "name": "stdout",
     "output_type": "stream",
     "text": [
      "\n",
      "train_acc: 99.29 | train_loss:  0.022 | valid_acc: 99.23 | valid_loss:  0.027\n",
      "\n",
      "Validation loss decreased(2.870633--->2.746730)...saving model\n"
     ]
    },
    {
     "data": {
      "application/vnd.jupyter.widget-view+json": {
       "model_id": "7eb4b9e049024bb3952a3225f75620e4",
       "version_major": 2,
       "version_minor": 0
      },
      "text/plain": [
       "HBox(children=(IntProgress(value=0, description='Epoch[ 7/100]', max=500, style=ProgressStyle(description_widt…"
      ]
     },
     "metadata": {},
     "output_type": "display_data"
    },
    {
     "name": "stdout",
     "output_type": "stream",
     "text": [
      "\n",
      "train_acc: 99.37 | train_loss:  0.019 | valid_acc: 98.89 | valid_loss:  0.037\n"
     ]
    },
    {
     "data": {
      "application/vnd.jupyter.widget-view+json": {
       "model_id": "c8ac72fe08d045079c8414ae3d7f50c2",
       "version_major": 2,
       "version_minor": 0
      },
      "text/plain": [
       "HBox(children=(IntProgress(value=0, description='Epoch[ 8/100]', max=500, style=ProgressStyle(description_widt…"
      ]
     },
     "metadata": {},
     "output_type": "display_data"
    },
    {
     "name": "stdout",
     "output_type": "stream",
     "text": [
      "\n",
      "train_acc: 99.49 | train_loss:  0.015 | valid_acc: 98.99 | valid_loss:  0.037\n"
     ]
    },
    {
     "data": {
      "application/vnd.jupyter.widget-view+json": {
       "model_id": "2d5232d506634b1ea5f4a9f7e1b22a3a",
       "version_major": 2,
       "version_minor": 0
      },
      "text/plain": [
       "HBox(children=(IntProgress(value=0, description='Epoch[ 9/100]', max=500, style=ProgressStyle(description_widt…"
      ]
     },
     "metadata": {},
     "output_type": "display_data"
    },
    {
     "name": "stdout",
     "output_type": "stream",
     "text": [
      "\n",
      "train_acc: 99.50 | train_loss:  0.014 | valid_acc: 99.03 | valid_loss:  0.038\n"
     ]
    },
    {
     "data": {
      "application/vnd.jupyter.widget-view+json": {
       "model_id": "2f5a600f18f943189f226b9f8169bf21",
       "version_major": 2,
       "version_minor": 0
      },
      "text/plain": [
       "HBox(children=(IntProgress(value=0, description='Epoch[10/100]', max=500, style=ProgressStyle(description_widt…"
      ]
     },
     "metadata": {},
     "output_type": "display_data"
    },
    {
     "name": "stdout",
     "output_type": "stream",
     "text": [
      "\n",
      "train_acc: 99.61 | train_loss:  0.012 | valid_acc: 99.10 | valid_loss:  0.034\n"
     ]
    },
    {
     "data": {
      "application/vnd.jupyter.widget-view+json": {
       "model_id": "b88be248bfe94aef9ac56a0f2fe234a1",
       "version_major": 2,
       "version_minor": 0
      },
      "text/plain": [
       "HBox(children=(IntProgress(value=0, description='Epoch[11/100]', max=500, style=ProgressStyle(description_widt…"
      ]
     },
     "metadata": {},
     "output_type": "display_data"
    },
    {
     "name": "stdout",
     "output_type": "stream",
     "text": [
      "\n",
      "train_acc: 99.69 | train_loss:  0.010 | valid_acc: 99.05 | valid_loss:  0.035\n"
     ]
    },
    {
     "data": {
      "application/vnd.jupyter.widget-view+json": {
       "model_id": "c1adf8f9f6ac44869f0af8154e627852",
       "version_major": 2,
       "version_minor": 0
      },
      "text/plain": [
       "HBox(children=(IntProgress(value=0, description='Epoch[12/100]', max=500, style=ProgressStyle(description_widt…"
      ]
     },
     "metadata": {},
     "output_type": "display_data"
    },
    {
     "name": "stdout",
     "output_type": "stream",
     "text": [
      "\n",
      "train_acc: 99.64 | train_loss:  0.011 | valid_acc: 99.13 | valid_loss:  0.034\n"
     ]
    },
    {
     "data": {
      "application/vnd.jupyter.widget-view+json": {
       "model_id": "2371a8a408a8481daefbc6f9f3daa007",
       "version_major": 2,
       "version_minor": 0
      },
      "text/plain": [
       "HBox(children=(IntProgress(value=0, description='Epoch[13/100]', max=500, style=ProgressStyle(description_widt…"
      ]
     },
     "metadata": {},
     "output_type": "display_data"
    },
    {
     "name": "stdout",
     "output_type": "stream",
     "text": [
      "\n",
      "train_acc: 99.74 | train_loss:  0.008 | valid_acc: 99.17 | valid_loss:  0.035\n"
     ]
    },
    {
     "data": {
      "application/vnd.jupyter.widget-view+json": {
       "model_id": "6dee615479d44f43ac7d45493e262024",
       "version_major": 2,
       "version_minor": 0
      },
      "text/plain": [
       "HBox(children=(IntProgress(value=0, description='Epoch[14/100]', max=500, style=ProgressStyle(description_widt…"
      ]
     },
     "metadata": {},
     "output_type": "display_data"
    },
    {
     "name": "stdout",
     "output_type": "stream",
     "text": [
      "\n",
      "train_acc: 99.71 | train_loss:  0.009 | valid_acc: 99.15 | valid_loss:  0.037\n"
     ]
    },
    {
     "data": {
      "application/vnd.jupyter.widget-view+json": {
       "model_id": "dfbd4f008fce4713a8ca06154cf40201",
       "version_major": 2,
       "version_minor": 0
      },
      "text/plain": [
       "HBox(children=(IntProgress(value=0, description='Epoch[15/100]', max=500, style=ProgressStyle(description_widt…"
      ]
     },
     "metadata": {},
     "output_type": "display_data"
    },
    {
     "name": "stdout",
     "output_type": "stream",
     "text": [
      "\n",
      "train_acc: 99.73 | train_loss:  0.008 | valid_acc: 98.92 | valid_loss:  0.043\n"
     ]
    },
    {
     "data": {
      "application/vnd.jupyter.widget-view+json": {
       "model_id": "e1c02dd2b7bf422695e1dabee4b87912",
       "version_major": 2,
       "version_minor": 0
      },
      "text/plain": [
       "HBox(children=(IntProgress(value=0, description='Epoch[16/100]', max=500, style=ProgressStyle(description_widt…"
      ]
     },
     "metadata": {},
     "output_type": "display_data"
    },
    {
     "name": "stdout",
     "output_type": "stream",
     "text": [
      "\n",
      "train_acc: 99.78 | train_loss:  0.006 | valid_acc: 98.83 | valid_loss:  0.049\n"
     ]
    },
    {
     "data": {
      "application/vnd.jupyter.widget-view+json": {
       "model_id": "6f05edf140fb4b58b16e95bc68779462",
       "version_major": 2,
       "version_minor": 0
      },
      "text/plain": [
       "HBox(children=(IntProgress(value=0, description='Epoch[17/100]', max=500, style=ProgressStyle(description_widt…"
      ]
     },
     "metadata": {},
     "output_type": "display_data"
    },
    {
     "name": "stdout",
     "output_type": "stream",
     "text": [
      "\n",
      "train_acc: 99.75 | train_loss:  0.007 | valid_acc: 99.15 | valid_loss:  0.036\n",
      "\n",
      "No improvment 10 consecutive epochs, early stopping.\n"
     ]
    }
   ],
   "source": [
    "ACC,LOSS,VAL_ACC,VAL_LOSS = [],[],[],[]\n",
    "\n",
    "early_step, total_step = 0, len(train_loader)\n",
    "min_valid_loss = np.inf\n",
    "\n",
    "def calculate_acc(outputs, labels, total, correct):\n",
    "    _, predicted = torch.max(outputs.data, 1)\n",
    "    total += labels.size(0)\n",
    "    correct += (predicted == labels).sum().item()\n",
    "    return total,correct\n",
    "    \n",
    "for epoch in range(NUM_EPOCHS):    \n",
    "    train_acc,train_total,valid_acc,valid_total = 0,0,0,0\n",
    "    train_loss,valid_loss = 0.0,0.0\n",
    "    \n",
    "    bar = progressbar.ProgressBar(maxval=total_step, \\\n",
    "    widgets=[progressbar.Bar('=', '[', ']'), ' ', progressbar.Percentage()])\n",
    "    \n",
    "    for images, labels in tqdm(train_loader, desc=\"Epoch[{:2d}/{}]\".format(epoch+1,NUM_EPOCHS)):\n",
    "        images = images.to(device)\n",
    "        labels = labels.to(device)\n",
    "        \n",
    "        outputs = model(images)\n",
    "        loss = cost_func(outputs, labels)\n",
    "        train_total, train_acc = calculate_acc(outputs, labels, train_total, train_acc)\n",
    "        \n",
    "        optimizer.zero_grad()\n",
    "        loss.backward()\n",
    "        optimizer.step()\n",
    "        train_loss += loss.item()\n",
    "    \n",
    "    for images, labels in valid_loader:\n",
    "        images = images.to(device)\n",
    "        labels = labels.to(device)\n",
    "        \n",
    "        outputs = model(images)\n",
    "        loss = cost_func(outputs, labels)\n",
    "        valid_total, valid_acc = calculate_acc(outputs, labels, valid_total, valid_acc)\n",
    "        valid_loss += loss.item() \n",
    "\n",
    "    ACC.append(train_acc/train_total)\n",
    "    LOSS.append(train_loss)\n",
    "    VAL_ACC.append(valid_acc/valid_total)\n",
    "    VAL_LOSS.append(valid_loss)\n",
    "    \n",
    "    print('train_acc: {:5.2f} | train_loss: {:6.3f} | valid_acc: {:5.2f} | valid_loss: {:6.3f}'.format(100*(train_acc/train_total),(train_loss /len(train_loader)),100*(valid_acc/valid_total),(valid_loss /len(valid_loader))))\n",
    "    \n",
    "    if min_valid_loss > valid_loss:\n",
    "        print('\\nValidation loss decreased({:4f}--->{:4f})...saving model'.format(min_valid_loss,valid_loss))\n",
    "        \n",
    "        early_step, min_valid_loss = 0, valid_loss     \n",
    "        torch.save(model.state_dict(), 'saved_model.pth')\n",
    "    else:\n",
    "        early_step += 1\n",
    "        if early_step > EARLY_STOP:\n",
    "            print(f\"\\nNo improvment {EARLY_STOP} consecutive epochs, early stopping.\")\n",
    "            break"
   ]
  },
  {
   "cell_type": "code",
   "execution_count": 7,
   "metadata": {
    "scrolled": true
   },
   "outputs": [
    {
     "data": {
      "image/png": "[encoded data removed]",
      "text/plain": [
       "<Figure size 1008x360 with 2 Axes>"
      ]
     },
     "metadata": {},
     "output_type": "display_data"
    }
   ],
   "source": [
    "sns.set_style(\"darkgrid\")\n",
    "fig, ax = plt.subplots(1, 2, figsize=(14,5))\n",
    "ax[0].plot(LOSS, label=\"Train loss\", color=\"#4863A0\")\n",
    "ax[0].plot(VAL_LOSS, label=\"Valid loss\", color=\"#EE9A4D\")\n",
    "ax[0].set_ylabel('loss')\n",
    "ax[0].legend(loc=\"upper right\")\n",
    "\n",
    "ax[1].plot(ACC, label=\"Train acc\", color=\"#3B9C9C\")\n",
    "ax[1].plot(VAL_ACC, label=\"Valid acc\", color=\"#F75D59\")\n",
    "ax[1].set_ylabel('acc')\n",
    "ax[1].legend(loc=\"upper left\")\n",
    "\n",
    "plt.tight_layout()\n",
    "plt.show()"
   ]
  },
  {
   "cell_type": "code",
   "execution_count": 8,
   "metadata": {},
   "outputs": [
    {
     "data": {
      "application/vnd.jupyter.widget-view+json": {
       "model_id": "accaaaa37b864480bfc56c10ec9c8a75",
       "version_major": 2,
       "version_minor": 0
      },
      "text/plain": [
       "HBox(children=(IntProgress(value=0, description='Test', style=ProgressStyle(description_width='initial')), HTM…"
      ]
     },
     "metadata": {},
     "output_type": "display_data"
    },
    {
     "name": "stdout",
     "output_type": "stream",
     "text": [
      "\n",
      "Accuracy of 10000 test images: 99.29 %\n"
     ]
    }
   ],
   "source": [
    "model = CNN_model(NUM_CLASS).to(device)\n",
    "model.load_state_dict(torch.load('saved_model.pth'))\n",
    "model.eval()  \n",
    "\n",
    "def calculate_acc(outputs, labels, total, correct):\n",
    "    _, predicted = torch.max(outputs.data, 1)\n",
    "    total += labels.size(0)\n",
    "    correct += (predicted == labels).sum().item()\n",
    "    return total,correct\n",
    "\n",
    "with torch.no_grad():\n",
    "    acc,total = 0,0\n",
    "    for images, labels in tqdm(test_loader, desc=\"Test\"):\n",
    "        images = images.to(device)\n",
    "        labels = labels.to(device)\n",
    "        outputs = model(images)\n",
    "        total, acc = calculate_acc(outputs, labels, total, acc)\n",
    "    print('Accuracy of 10000 test images: {} %'.format(100*acc/total))"
   ]
  }
 ],
 "metadata": {
  "hide_input": false,
  "kernelspec": {
   "display_name": "Python 3",
   "language": "python",
   "name": "python3"
  },
  "language_info": {
   "codemirror_mode": {
    "name": "ipython",
    "version": 3
   },
   "file_extension": ".py",
   "mimetype": "text/x-python",
   "name": "python",
   "nbconvert_exporter": "python",
   "pygments_lexer": "ipython3",
   "version": "3.6.7"
  }
 },
 "nbformat": 4,
 "nbformat_minor": 2
}

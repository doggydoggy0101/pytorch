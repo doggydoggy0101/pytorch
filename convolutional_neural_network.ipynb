{
 "cells": [
  {
   "cell_type": "code",
   "execution_count": 1,
   "metadata": {},
   "outputs": [
    {
     "name": "stdout",
     "output_type": "stream",
     "text": [
      "GeForce GTX 1080 Ti\n",
      "Memory Usage:\n",
      "Allocated: 0.0 GB\n",
      "Cached:    0.0 GB\n"
     ]
    }
   ],
   "source": [
    "import numpy as np\n",
    "import matplotlib\n",
    "import matplotlib.pyplot as plt\n",
    "import seaborn as sns\n",
    "\n",
    "import torch \n",
    "import torchvision\n",
    "import torchvision.transforms as transforms\n",
    "from torch.utils.data import DataLoader, Dataset, random_split\n",
    "\n",
    "device = torch.device('cuda' if torch.cuda.is_available() else 'cpu')\n",
    "if device.type == 'cuda':\n",
    "    print(torch.cuda.get_device_name(0))\n",
    "    print('Memory Usage:')\n",
    "    print('Allocated:', round(torch.cuda.memory_allocated(0)/1024**3,1), 'GB')\n",
    "    print('Cached:   ', round(torch.cuda.memory_reserved(0)/1024**3,1), 'GB')"
   ]
  },
  {
   "cell_type": "code",
   "execution_count": 2,
   "metadata": {},
   "outputs": [],
   "source": [
    "train_dataset = torchvision.datasets.MNIST(root='../../data/',\n",
    "                                           train=True, \n",
    "                                           transform=transforms.ToTensor(),\n",
    "                                           download=True)\n",
    "\n",
    "test_dataset = torchvision.datasets.MNIST(root='../../data/',\n",
    "                                          train=False, \n",
    "                                          transform=transforms.ToTensor())\n",
    "\n",
    "\n",
    "train, valid = random_split(train_dataset,[50000,10000])"
   ]
  },
  {
   "cell_type": "code",
   "execution_count": 3,
   "metadata": {},
   "outputs": [],
   "source": [
    "NUM_EPOCHS = 100\n",
    "EARLY_STOP = 10\n",
    "NUM_CLASS = 10\n",
    "BATCH_SIZE = 100\n",
    "LEARN_RATE = 0.001"
   ]
  },
  {
   "cell_type": "code",
   "execution_count": 4,
   "metadata": {},
   "outputs": [],
   "source": [
    "# Data loader\n",
    "train_loader = torch.utils.data.DataLoader(dataset=train,\n",
    "                                           batch_size=BATCH_SIZE, \n",
    "                                           shuffle=True)\n",
    "\n",
    "valid_loader = torch.utils.data.DataLoader(dataset=valid,\n",
    "                                           batch_size=BATCH_SIZE, \n",
    "                                           shuffle=True)\n",
    "\n",
    "test_loader = torch.utils.data.DataLoader(dataset=test_dataset,\n",
    "                                          batch_size=BATCH_SIZE, \n",
    "                                          shuffle=False)"
   ]
  },
  {
   "cell_type": "code",
   "execution_count": 5,
   "metadata": {},
   "outputs": [],
   "source": [
    "class CNN_model(torch.nn.Module):\n",
    "    def __init__(self, num_classes=10):\n",
    "        super(CNN_model, self).__init__()\n",
    "        \n",
    "        self.layer1 = torch.nn.Sequential(\n",
    "            torch.nn.Conv2d(1, 16, kernel_size=5, stride=1, padding=2),\n",
    "            torch.nn.BatchNorm2d(16),\n",
    "            torch.nn.ReLU(),\n",
    "            torch.nn.MaxPool2d(kernel_size=2, stride=2))\n",
    "        \n",
    "        self.layer2 = torch.nn.Sequential(\n",
    "            torch.nn.Conv2d(16, 32, kernel_size=5, stride=1, padding=2),\n",
    "            torch.nn.BatchNorm2d(32),\n",
    "            torch.nn.ReLU(),\n",
    "            torch.nn.MaxPool2d(kernel_size=2, stride=2))\n",
    "        \n",
    "        self.fc = torch.nn.Linear(7*7*32, num_classes)\n",
    "        \n",
    "    def forward(self, x):\n",
    "        out = self.layer1(x)\n",
    "        out = self.layer2(out)\n",
    "        out = out.reshape(out.size(0), -1)\n",
    "        out = self.fc(out)\n",
    "        return out"
   ]
  },
  {
   "cell_type": "code",
   "execution_count": 6,
   "metadata": {
    "scrolled": true
   },
   "outputs": [
    {
     "name": "stdout",
     "output_type": "stream",
     "text": [
      "CNN_model(\n",
      "  (layer1): Sequential(\n",
      "    (0): Conv2d(1, 16, kernel_size=(5, 5), stride=(1, 1), padding=(2, 2))\n",
      "    (1): BatchNorm2d(16, eps=1e-05, momentum=0.1, affine=True, track_running_stats=True)\n",
      "    (2): ReLU()\n",
      "    (3): MaxPool2d(kernel_size=2, stride=2, padding=0, dilation=1, ceil_mode=False)\n",
      "  )\n",
      "  (layer2): Sequential(\n",
      "    (0): Conv2d(16, 32, kernel_size=(5, 5), stride=(1, 1), padding=(2, 2))\n",
      "    (1): BatchNorm2d(32, eps=1e-05, momentum=0.1, affine=True, track_running_stats=True)\n",
      "    (2): ReLU()\n",
      "    (3): MaxPool2d(kernel_size=2, stride=2, padding=0, dilation=1, ceil_mode=False)\n",
      "  )\n",
      "  (fc): Linear(in_features=1568, out_features=10, bias=True)\n",
      ")\n"
     ]
    }
   ],
   "source": [
    "model = CNN_model(NUM_CLASS).to(device)\n",
    "\n",
    "cost_func = torch.nn.CrossEntropyLoss()\n",
    "optimizer = torch.optim.Adam(model.parameters(), lr=LEARN_RATE)\n",
    "print(model)"
   ]
  },
  {
   "cell_type": "code",
   "execution_count": 7,
   "metadata": {
    "scrolled": false
   },
   "outputs": [
    {
     "name": "stdout",
     "output_type": "stream",
     "text": [
      "Epoch[ 1/100]\n",
      "             train_acc: 95.61 | train_loss:  0.152 | valid_acc: 98.19 | valid_loss:  0.062\n",
      "\n",
      "             Validation loss decreased( inf--->6.193310)...saving model\n",
      "Epoch[ 2/100]\n",
      "             train_acc: 98.41 | train_loss:  0.051 | valid_acc: 98.47 | valid_loss:  0.050\n",
      "\n",
      "             Validation loss decreased(6.193310--->5.015289)...saving model\n",
      "Epoch[ 3/100]\n",
      "             train_acc: 98.79 | train_loss:  0.039 | valid_acc: 98.13 | valid_loss:  0.059\n",
      "Epoch[ 4/100]\n",
      "             train_acc: 99.06 | train_loss:  0.030 | valid_acc: 98.78 | valid_loss:  0.040\n",
      "\n",
      "             Validation loss decreased(5.015289--->4.048868)...saving model\n",
      "Epoch[ 5/100]\n",
      "             train_acc: 99.17 | train_loss:  0.026 | valid_acc: 98.78 | valid_loss:  0.041\n",
      "Epoch[ 6/100]\n",
      "             train_acc: 99.29 | train_loss:  0.022 | valid_acc: 98.46 | valid_loss:  0.050\n",
      "Epoch[ 7/100]\n",
      "             train_acc: 99.45 | train_loss:  0.018 | valid_acc: 98.69 | valid_loss:  0.042\n",
      "Epoch[ 8/100]\n",
      "             train_acc: 99.44 | train_loss:  0.017 | valid_acc: 98.75 | valid_loss:  0.044\n",
      "Epoch[ 9/100]\n",
      "             train_acc: 99.49 | train_loss:  0.015 | valid_acc: 98.77 | valid_loss:  0.044\n",
      "Epoch[10/100]\n",
      "             train_acc: 99.68 | train_loss:  0.011 | valid_acc: 98.92 | valid_loss:  0.039\n",
      "\n",
      "             Validation loss decreased(4.048868--->3.862563)...saving model\n",
      "Epoch[11/100]\n",
      "             train_acc: 99.67 | train_loss:  0.011 | valid_acc: 98.90 | valid_loss:  0.038\n",
      "\n",
      "             Validation loss decreased(3.862563--->3.802706)...saving model\n",
      "Epoch[12/100]\n",
      "             train_acc: 99.81 | train_loss:  0.007 | valid_acc: 98.89 | valid_loss:  0.037\n",
      "\n",
      "             Validation loss decreased(3.802706--->3.661447)...saving model\n",
      "Epoch[13/100]\n",
      "             train_acc: 99.71 | train_loss:  0.009 | valid_acc: 98.88 | valid_loss:  0.042\n",
      "Epoch[14/100]\n",
      "             train_acc: 99.78 | train_loss:  0.007 | valid_acc: 98.71 | valid_loss:  0.047\n",
      "Epoch[15/100]\n",
      "             train_acc: 99.77 | train_loss:  0.007 | valid_acc: 98.59 | valid_loss:  0.055\n",
      "Epoch[16/100]\n",
      "             train_acc: 99.71 | train_loss:  0.009 | valid_acc: 98.75 | valid_loss:  0.050\n",
      "Epoch[17/100]\n",
      "             train_acc: 99.83 | train_loss:  0.005 | valid_acc: 98.83 | valid_loss:  0.044\n",
      "Epoch[18/100]\n",
      "             train_acc: 99.90 | train_loss:  0.004 | valid_acc: 98.88 | valid_loss:  0.044\n",
      "Epoch[19/100]\n",
      "             train_acc: 99.74 | train_loss:  0.007 | valid_acc: 98.92 | valid_loss:  0.046\n",
      "Epoch[20/100]\n",
      "             train_acc: 99.93 | train_loss:  0.003 | valid_acc: 98.80 | valid_loss:  0.051\n",
      "Epoch[21/100]\n",
      "             train_acc: 99.84 | train_loss:  0.005 | valid_acc: 98.99 | valid_loss:  0.041\n",
      "Epoch[22/100]\n",
      "             train_acc: 99.87 | train_loss:  0.004 | valid_acc: 98.71 | valid_loss:  0.049\n",
      "Epoch[23/100]\n",
      "             train_acc: 99.88 | train_loss:  0.003 | valid_acc: 99.00 | valid_loss:  0.045\n",
      "No improvment 10 consecutive epochs, early stopping.\n"
     ]
    }
   ],
   "source": [
    "ACC,LOSS,VAL_ACC,VAL_LOSS = [],[],[],[]\n",
    "\n",
    "early_step, total_step = 0, len(train_loader)\n",
    "min_valid_loss = np.inf\n",
    "\n",
    "def calculate_acc(outputs, labels, total, correct):\n",
    "    _, predicted = torch.max(outputs.data, 1)\n",
    "    total += labels.size(0)\n",
    "    correct += (predicted == labels).sum().item()\n",
    "    return total,correct\n",
    "    \n",
    "for epoch in range(NUM_EPOCHS):    \n",
    "    train_acc,train_total,valid_acc,valid_total = 0,0,0,0\n",
    "    train_loss,valid_loss = 0.0,0.0\n",
    "    \n",
    "    for images, labels in train_loader:\n",
    "        images = images.to(device)\n",
    "        labels = labels.to(device)\n",
    "        \n",
    "        outputs = model(images)\n",
    "        loss = cost_func(outputs, labels)\n",
    "        train_total, train_acc = calculate_acc(outputs, labels, train_total, train_acc)\n",
    "        \n",
    "        optimizer.zero_grad()\n",
    "        loss.backward()\n",
    "        optimizer.step()\n",
    "        train_loss += loss.item()\n",
    "        \n",
    "    for images, labels in valid_loader:\n",
    "        images = images.to(device)\n",
    "        labels = labels.to(device)\n",
    "        \n",
    "        outputs = model(images)\n",
    "        loss = cost_func(outputs, labels)\n",
    "        valid_total, valid_acc = calculate_acc(outputs, labels, valid_total, valid_acc)\n",
    "        valid_loss += loss.item()  \n",
    "    \n",
    "    ACC.append(train_acc/train_total)\n",
    "    LOSS.append(train_loss)\n",
    "    VAL_ACC.append(valid_acc/valid_total)\n",
    "    VAL_LOSS.append(valid_loss)\n",
    "    \n",
    "    print('Epoch[{:2d}/{}]\\n             train_acc: {:5.2f} | train_loss: {:6.3f} | valid_acc: {:5.2f} | valid_loss: {:6.3f}'.format(epoch+1,NUM_EPOCHS,100*(train_acc/train_total),(train_loss /len(train_loader)),100*(valid_acc/valid_total),(valid_loss /len(valid_loader))))\n",
    "    \n",
    "    if min_valid_loss > valid_loss:\n",
    "        print('\\n             Validation loss decreased({:4f}--->{:4f})...saving model'.format(min_valid_loss,valid_loss))\n",
    "        \n",
    "        early_step, min_valid_loss = 0, valid_loss     \n",
    "        torch.save(model.state_dict(), 'saved_model.pth')\n",
    "    else:\n",
    "        early_step += 1\n",
    "        if early_step > EARLY_STOP:\n",
    "            print(f\"No improvment {EARLY_STOP} consecutive epochs, early stopping.\")\n",
    "            break"
   ]
  },
  {
   "cell_type": "code",
   "execution_count": 8,
   "metadata": {
    "scrolled": true
   },
   "outputs": [
    {
     "data": {
      "image/png": "[encoded data removed]",
      "text/plain": [
       "<Figure size 1008x360 with 2 Axes>"
      ]
     },
     "metadata": {},
     "output_type": "display_data"
    }
   ],
   "source": [
    "sns.set_style(\"darkgrid\")\n",
    "fig, ax = plt.subplots(1, 2, figsize=(14,5))\n",
    "ax[0].plot(LOSS, label=\"Train loss\", color=\"#4863A0\")\n",
    "ax[0].plot(VAL_LOSS, label=\"Valid loss\", color=\"#EE9A4D\")\n",
    "ax[0].set_ylabel('loss')\n",
    "ax[0].legend(loc=\"upper right\")\n",
    "\n",
    "ax[1].plot(ACC, label=\"Train acc\", color=\"#3B9C9C\")\n",
    "ax[1].plot(VAL_ACC, label=\"Valid acc\", color=\"#F75D59\")\n",
    "ax[1].set_ylabel('acc')\n",
    "ax[1].legend(loc=\"upper left\")\n",
    "\n",
    "plt.tight_layout()\n",
    "plt.show()"
   ]
  },
  {
   "cell_type": "code",
   "execution_count": 9,
   "metadata": {},
   "outputs": [
    {
     "name": "stdout",
     "output_type": "stream",
     "text": [
      "Test Accuracy of the model on the 10000 test images: 99.12 %\n"
     ]
    }
   ],
   "source": [
    "model = CNN_model(NUM_CLASS).to(device)\n",
    "model.load_state_dict(torch.load('saved_model.pth'))\n",
    "model.eval()  \n",
    "\n",
    "def calculate_acc(outputs, labels, total, correct):\n",
    "    _, predicted = torch.max(outputs.data, 1)\n",
    "    total += labels.size(0)\n",
    "    correct += (predicted == labels).sum().item()\n",
    "    return total,correct\n",
    "\n",
    "with torch.no_grad():\n",
    "    acc,total = 0,0\n",
    "    for images, labels in test_loader:\n",
    "        images = images.to(device)\n",
    "        labels = labels.to(device)\n",
    "        outputs = model(images)\n",
    "        total, acc = calculate_acc(outputs, labels, total, acc)\n",
    "    print('Test Accuracy of the model on the 10000 test images: {} %'.format(100*acc/total))"
   ]
  }
 ],
 "metadata": {
  "hide_input": false,
  "kernelspec": {
   "display_name": "Python 3",
   "language": "python",
   "name": "python3"
  },
  "language_info": {
   "codemirror_mode": {
    "name": "ipython",
    "version": 3
   },
   "file_extension": ".py",
   "mimetype": "text/x-python",
   "name": "python",
   "nbconvert_exporter": "python",
   "pygments_lexer": "ipython3",
   "version": "3.6.7"
  }
 },
 "nbformat": 4,
 "nbformat_minor": 2
}
